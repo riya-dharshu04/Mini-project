{
 "cells": [
  {
   "cell_type": "code",
   "execution_count": 1,
   "id": "4f3ad53e",
   "metadata": {},
   "outputs": [
    {
     "name": "stdout",
     "output_type": "stream",
     "text": [
      "\n",
      "Guess the number: 456\n",
      "FermiFermiFermi\n",
      "\n",
      "You Won!!!\n",
      "Bagels\n"
     ]
    }
   ],
   "source": [
    "original_number='456'\n",
    "while True:\n",
    "    output=[]\n",
    "    guess_number=input('\\nGuess the number: ')\n",
    "\n",
    "    if len(guess_number) != len(original_number):\n",
    "        print(f'Enter{len(original_number)}digit number')\n",
    "        continue\n",
    "\n",
    "    if len(guess_number) != len(set(guess_number)):\n",
    "        print('Duplicate number')\n",
    "        continue\n",
    "\n",
    "    if (int(guess_number) - int(original_number))==0:\n",
    "        print('Fermi'* len(original_number))\n",
    "        print('\\nYou Won!!!')\n",
    "        break\n",
    "\n",
    "    for i in range(len(original_number)):\n",
    "        for j in range(len(guess_number)):\n",
    "            if original_number[i]==guess_number[j]:\n",
    "                if i==j:\n",
    "                    output.append('Fermi')\n",
    "                else:\n",
    "                    output.append('Pico')\n",
    "\n",
    "output_string=''\n",
    "for item in output:\n",
    "    output_string=output_string+''+item\n",
    "\n",
    "if len(output)==0:\n",
    "    print('Bagels')\n",
    "else:\n",
    "    print(output_string)"
   ]
  },
  {
   "cell_type": "code",
   "execution_count": null,
   "id": "59c305dd",
   "metadata": {},
   "outputs": [],
   "source": []
  }
 ],
 "metadata": {
  "kernelspec": {
   "display_name": "Python 3 (ipykernel)",
   "language": "python",
   "name": "python3"
  },
  "language_info": {
   "codemirror_mode": {
    "name": "ipython",
    "version": 3
   },
   "file_extension": ".py",
   "mimetype": "text/x-python",
   "name": "python",
   "nbconvert_exporter": "python",
   "pygments_lexer": "ipython3",
   "version": "3.9.13"
  }
 },
 "nbformat": 4,
 "nbformat_minor": 5
}
